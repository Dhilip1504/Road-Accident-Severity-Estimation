{
 "cells": [
  {
   "cell_type": "code",
   "execution_count": 2,
   "metadata": {},
   "outputs": [],
   "source": [
    "import pandas as pd\n",
    "import numpy\n",
    "import matplotlib.pyplot as plt"
   ]
  },
  {
   "cell_type": "code",
   "execution_count": 10,
   "metadata": {},
   "outputs": [
    {
     "name": "stderr",
     "output_type": "stream",
     "text": [
      "c:\\python\\python382\\lib\\site-packages\\IPython\\core\\interactiveshell.py:3145: DtypeWarning: Columns (79,183,189) have mixed types.Specify dtype option on import or set low_memory=False.\n",
      "  has_raised = await self.run_ast_nodes(code_ast.body, cell_name,\n"
     ]
    }
   ],
   "source": [
    "data = pd.read_csv(\"dataset.csv\")"
   ]
  },
  {
   "cell_type": "code",
   "execution_count": 11,
   "metadata": {},
   "outputs": [
    {
     "data": {
      "text/plain": [
       "149635"
      ]
     },
     "execution_count": 11,
     "metadata": {},
     "output_type": "execute_result"
    }
   ],
   "source": [
    "data = data[data[\"MAX_SEVERITY_LEVEL\"]<5]\n",
    "len(data)"
   ]
  },
  {
   "cell_type": "code",
   "execution_count": 2,
   "metadata": {
    "scrolled": false
   },
   "outputs": [
    {
     "data": {
      "text/plain": [
       "['AGGRESSIVE_DRIVING',\n",
       " 'ALCOHOL_RELATED',\n",
       " 'ILLEGAL_DRUG_RELATED',\n",
       " 'MC_DRINKING_DRIVER',\n",
       " 'DRINKING_DRIVER',\n",
       " 'IMPAIRED_DRIVER',\n",
       " 'AUTOMOBILE_COUNT',\n",
       " 'BUS_COUNT',\n",
       " 'SUV_COUNT',\n",
       " 'VAN_COUNT',\n",
       " 'SCHOOL_BUS',\n",
       " 'SMALL_TRUCK_COUNT',\n",
       " 'PED_COUNT',\n",
       " 'BICYCLE_COUNT',\n",
       " 'MOTORCYCLE_COUNT',\n",
       " 'HEAVY_TRUCK_COUNT',\n",
       " 'VEHICLE_COUNT',\n",
       " 'CELL_PHONE',\n",
       " 'COLLISION_TYPE',\n",
       " 'CROSS_MEDIAN',\n",
       " 'HIT',\n",
       " 'SV_RUN_OFF_RD',\n",
       " 'DEER_RELATED',\n",
       " 'DISTRACTED',\n",
       " 'FATIGUE_ASLEEP',\n",
       " 'FIRE_IN_VEHICLE',\n",
       " 'NHTSA_AGG_DRIVING',\n",
       " 'OVERTURNED',\n",
       " 'SPEEDING',\n",
       " 'SPEEDING_RELATED',\n",
       " 'UNBELTED_OCC_COUNT',\n",
       " 'UNBELTED']"
      ]
     },
     "execution_count": 2,
     "metadata": {},
     "output_type": "execute_result"
    }
   ],
   "source": [
    "a = [\"AGGRESSIVE_DRIVING\",\"ALCOHOL_RELATED\",\"ILLEGAL_DRUG_RELATED\",\"MC_DRINKING_DRIVER\",\"DRINKING_DRIVER\",\"IMPAIRED_DRIVER\",\"AUTOMOBILE_COUNT\",\"BUS_COUNT\",\"SUV_COUNT\",\"VAN_COUNT\",\"SCHOOL_BUS\",\"SMALL_TRUCK_COUNT\",\"PED_COUNT\",\"BICYCLE_COUNT\",\"MOTORCYCLE_COUNT\",\"HEAVY_TRUCK_COUNT\",\"VEHICLE_COUNT\",\"CELL_PHONE\",\"COLLISION_TYPE\",\"CROSS_MEDIAN\",\"HIT\",\"SV_RUN_OFF_RD\",\"DEER_RELATED\",\"DISTRACTED\",\"FATIGUE_ASLEEP\",\"FIRE_IN_VEHICLE\",\"NHTSA_AGG_DRIVING\",\"OVERTURNED\",\"SPEEDING\",\"SPEEDING_RELATED\",\"UNBELTED_OCC_COUNT\",\"UNBELTED\"]\n",
    "a"
   ]
  },
  {
   "cell_type": "code",
   "execution_count": 3,
   "metadata": {},
   "outputs": [
    {
     "data": {
      "text/plain": [
       "['AGGRESSIVE_DRIVING',\n",
       " 'MC_DRINKING_DRIVER',\n",
       " 'DRINKING_DRIVER',\n",
       " 'AUTOMOBILE_COUNT',\n",
       " 'BUS_COUNT',\n",
       " 'SUV_COUNT',\n",
       " 'VAN_COUNT',\n",
       " 'SCHOOL_BUS',\n",
       " 'SMALL_TRUCK_COUNT',\n",
       " 'PED_COUNT',\n",
       " 'BICYCLE_COUNT',\n",
       " 'MOTORCYCLE_COUNT',\n",
       " 'HEAVY_TRUCK_COUNT',\n",
       " 'VEHICLE_COUNT',\n",
       " 'CELL_PHONE',\n",
       " 'COLLISION_TYPE',\n",
       " 'CROSS_MEDIAN',\n",
       " 'HIT',\n",
       " 'SV_RUN_OFF_RD',\n",
       " 'DEER_RELATED',\n",
       " 'DISTRACTED',\n",
       " 'FATIGUE_ASLEEP',\n",
       " 'FIRE_IN_VEHICLE',\n",
       " 'NHTSA_AGG_DRIVING',\n",
       " 'OVERTURNED',\n",
       " 'SPEEDING',\n",
       " 'SPEEDING_RELATED',\n",
       " 'UNBELTED_OCC_COUNT',\n",
       " 'UNBELTED']"
      ]
     },
     "execution_count": 3,
     "metadata": {},
     "output_type": "execute_result"
    }
   ],
   "source": [
    "b = [\"AGGRESSIVE_DRIVING\",\"MC_DRINKING_DRIVER\",\"DRINKING_DRIVER\",\"AUTOMOBILE_COUNT\",\"BUS_COUNT\",\"SUV_COUNT\",\"VAN_COUNT\",\"SCHOOL_BUS\",\"SMALL_TRUCK_COUNT\",\"PED_COUNT\",\"BICYCLE_COUNT\",\"MOTORCYCLE_COUNT\",\"HEAVY_TRUCK_COUNT\",\"VEHICLE_COUNT\",\"CELL_PHONE\",\"COLLISION_TYPE\",\"CROSS_MEDIAN\",\"HIT\",\"SV_RUN_OFF_RD\",\"DEER_RELATED\",\"DISTRACTED\",\"FATIGUE_ASLEEP\",\"FIRE_IN_VEHICLE\",\"NHTSA_AGG_DRIVING\",\"OVERTURNED\",\"SPEEDING\",\"SPEEDING_RELATED\",\"UNBELTED_OCC_COUNT\",\"UNBELTED\"]\n",
    "b"
   ]
  },
  {
   "cell_type": "code",
   "execution_count": 5,
   "metadata": {},
   "outputs": [],
   "source": [
    "c = [\"AGGRESSIVE_DRIVING\",\"NHTSA_AGG_DRIVING\",\"MC_DRINKING_DRIVER\",\"DRINKING_DRIVER\",\"AUTOMOBILE_COUNT\",\"BUS_COUNT\",\"SUV_COUNT\",\"VAN_COUNT\",\"SCHOOL_BUS\",\"SMALL_TRUCK_COUNT\",\"PED_COUNT\",\"BICYCLE_COUNT\",\"MOTORCYCLE_COUNT\",\"HEAVY_TRUCK_COUNT\",\"VEHICLE_COUNT\",\"CROSS_MEDIAN\",\"HIT\",\"SV_RUN_OFF_RD\",\"DEER_RELATED\",\"DISTRACTED\",\"FATIGUE_ASLEEP\",\"CELL_PHONE\",\"SPEEDING\",\"SPEEDING_RELATED\",\"UNBELTED_OCC_COUNT\",\"UNBELTED\",'COLLISION_TYPE','FIRE_IN_VEHICLE','OVERTURNED']"
   ]
  },
  {
   "cell_type": "code",
   "execution_count": 6,
   "metadata": {},
   "outputs": [],
   "source": [
    "d = [\"MC_DRINKING_DRIVER\",\"DRINKING_DRIVER\",\"AUTOMOBILE_COUNT\",\"BUS_COUNT\",\"SUV_COUNT\",\"VAN_COUNT\",\"SCHOOL_BUS\",\"SMALL_TRUCK_COUNT\",\"PED_COUNT\",\"BICYCLE_COUNT\",\"MOTORCYCLE_COUNT\",\"HEAVY_TRUCK_COUNT\",\"VEHICLE_COUNT\",\"CROSS_MEDIAN\",\"HIT\",\"SV_RUN_OFF_RD\",\"DEER_RELATED\",\"DISTRACTED\",\"FATIGUE_ASLEEP\",\"CELL_PHONE\",\"SPEEDING\",\"SPEEDING_RELATED\",\"UNBELTED_OCC_COUNT\",\"UNBELTED\",'COLLISION_TYPE','FIRE_IN_VEHICLE','OVERTURNED','AGGRESSIVE_DRIVING']"
   ]
  },
  {
   "cell_type": "code",
   "execution_count": 7,
   "metadata": {
    "scrolled": false
   },
   "outputs": [],
   "source": [
    "e = [\"MC_DRINKING_DRIVER\",\"DRINKING_DRIVER\",\"AUTOMOBILE_COUNT\",\"BUS_COUNT\",\"SUV_COUNT\",\"VAN_COUNT\",\"SCHOOL_BUS\",\"SMALL_TRUCK_COUNT\",\"PED_COUNT\",\"BICYCLE_COUNT\",\"MOTORCYCLE_COUNT\",\"HEAVY_TRUCK_COUNT\",\"VEHICLE_COUNT\",\"CROSS_MEDIAN\",\"HIT\",\"SV_RUN_OFF_RD\",\"DEER_RELATED\",\"DISTRACTED\",\"FATIGUE_ASLEEP\",\"CELL_PHONE\",\"UNBELTED_OCC_COUNT\",\"UNBELTED\",'COLLISION_TYPE','FIRE_IN_VEHICLE','OVERTURNED','AGGRESSIVE_DRIVING','SPEEDING']"
   ]
  },
  {
   "cell_type": "code",
   "execution_count": 8,
   "metadata": {},
   "outputs": [],
   "source": [
    "f = [\"MC_DRINKING_DRIVER\",\"DRINKING_DRIVER\",\"AUTOMOBILE_COUNT\",\"BUS_COUNT\",\"SUV_COUNT\",\"VAN_COUNT\",\"SCHOOL_BUS\",\"SMALL_TRUCK_COUNT\",\"PED_COUNT\",\"BICYCLE_COUNT\",\"MOTORCYCLE_COUNT\",\"HEAVY_TRUCK_COUNT\",\"VEHICLE_COUNT\",\"CROSS_MEDIAN\",\"HIT\",\"SV_RUN_OFF_RD\",\"DEER_RELATED\",\"UNBELTED_OCC_COUNT\",\"UNBELTED\",'COLLISION_TYPE','FIRE_IN_VEHICLE','OVERTURNED','AGGRESSIVE_DRIVING','SPEEDING','DISTRACTED']"
   ]
  },
  {
   "cell_type": "code",
   "execution_count": 9,
   "metadata": {},
   "outputs": [],
   "source": [
    "g = [\"MC_DRINKING_DRIVER\",\"DRINKING_DRIVER\",\"AUTOMOBILE_COUNT\",\"BUS_COUNT\",\"SUV_COUNT\",\"VAN_COUNT\",\"SCHOOL_BUS\",\"SMALL_TRUCK_COUNT\",\"PED_COUNT\",\"BICYCLE_COUNT\",\"MOTORCYCLE_COUNT\",\"HEAVY_TRUCK_COUNT\",\"VEHICLE_COUNT\",\"CROSS_MEDIAN\",\"HIT\",\"SV_RUN_OFF_RD\",\"DEER_RELATED\",\"DISTRACTED\",\"FATIGUE_ASLEEP\",\"CELL_PHONE\",'UNBELTED','COLLISION_TYPE','FIRE_IN_VEHICLE','OVERTURNED','AGGRESSIVE_DRIVING','SPEEDING']"
   ]
  },
  {
   "cell_type": "code",
   "execution_count": 10,
   "metadata": {},
   "outputs": [],
   "source": [
    "h = [\"MC_DRINKING_DRIVER\",\"DRINKING_DRIVER\",\"AUTOMOBILE_COUNT\",\"BUS_COUNT\",\"SUV_COUNT\",\"VAN_COUNT\",\"SCHOOL_BUS\",\"SMALL_TRUCK_COUNT\",\"PED_COUNT\",\"BICYCLE_COUNT\",\"MOTORCYCLE_COUNT\",\"HEAVY_TRUCK_COUNT\",\"VEHICLE_COUNT\",\"CROSS_MEDIAN\",\"HIT\",\"SV_RUN_OFF_RD\",\"DEER_RELATED\",'DISTRACTED','UNBELTED','COLLISION_TYPE','FIRE_IN_VEHICLE','OVERTURNED','AGGRESSIVE_DRIVING','SPEEDING']"
   ]
  },
  {
   "cell_type": "code",
   "execution_count": 11,
   "metadata": {},
   "outputs": [
    {
     "data": {
      "text/plain": [
       "['MC_DRINKING_DRIVER',\n",
       " 'DRINKING_DRIVER',\n",
       " 'AUTOMOBILE_COUNT',\n",
       " 'COMM_VEH_COUNT',\n",
       " 'BUS_COUNT',\n",
       " 'SUV_COUNT',\n",
       " 'VAN_COUNT',\n",
       " 'SCHOOL_BUS',\n",
       " 'SMALL_TRUCK_COUNT',\n",
       " 'PED_COUNT',\n",
       " 'BICYCLE_COUNT',\n",
       " 'MOTORCYCLE_COUNT',\n",
       " 'HEAVY_TRUCK_COUNT',\n",
       " 'VEHICLE_COUNT',\n",
       " 'CROSS_MEDIAN',\n",
       " 'SV_RUN_OFF_RD',\n",
       " 'DISTRACTED',\n",
       " 'UNBELTED',\n",
       " 'COLLISION_TYPE',\n",
       " 'FIRE_IN_VEHICLE',\n",
       " 'OVERTURNED',\n",
       " 'AGGRESSIVE_DRIVING',\n",
       " 'SPEEDING',\n",
       " 'HIT_BRIDGE',\n",
       " 'HIT_DEER',\n",
       " 'HIT_EMBANKMENT',\n",
       " 'HIT_FIXED_OBJECT',\n",
       " 'HIT_GDRAIL',\n",
       " 'HIT_GDRAIL_END',\n",
       " 'HIT_POLE',\n",
       " 'HIT_TREE_SHRUB',\n",
       " 'HIT_BARRIER']"
      ]
     },
     "execution_count": 11,
     "metadata": {},
     "output_type": "execute_result"
    }
   ],
   "source": [
    "i = [\"MC_DRINKING_DRIVER\",\"DRINKING_DRIVER\",\"AUTOMOBILE_COUNT\",\"COMM_VEH_COUNT\",\"BUS_COUNT\",\"SUV_COUNT\",\"VAN_COUNT\",\"SCHOOL_BUS\",\"SMALL_TRUCK_COUNT\",\"PED_COUNT\",\"BICYCLE_COUNT\",\"MOTORCYCLE_COUNT\",\"HEAVY_TRUCK_COUNT\",\"VEHICLE_COUNT\",\"CROSS_MEDIAN\",\"SV_RUN_OFF_RD\",'DISTRACTED','UNBELTED','COLLISION_TYPE','FIRE_IN_VEHICLE','OVERTURNED','AGGRESSIVE_DRIVING','SPEEDING','HIT_BRIDGE','HIT_DEER','HIT_EMBANKMENT','HIT_FIXED_OBJECT','HIT_GDRAIL','HIT_GDRAIL_END','HIT_POLE','HIT_TREE_SHRUB','HIT_BARRIER']\n",
    "i"
   ]
  },
  {
   "cell_type": "code",
   "execution_count": 12,
   "metadata": {},
   "outputs": [
    {
     "data": {
      "text/plain": [
       "['MC_DRINKING_DRIVER',\n",
       " 'DRINKING_DRIVER',\n",
       " 'CROSS_MEDIAN',\n",
       " 'SV_RUN_OFF_RD',\n",
       " 'DISTRACTED',\n",
       " 'UNBELTED',\n",
       " 'COLLISION_TYPE',\n",
       " 'FIRE_IN_VEHICLE',\n",
       " 'OVERTURNED',\n",
       " 'AGGRESSIVE_DRIVING',\n",
       " 'SPEEDING',\n",
       " 'HIT_BRIDGE',\n",
       " 'HIT_DEER',\n",
       " 'HIT_EMBANKMENT',\n",
       " 'HIT_FIXED_OBJECT',\n",
       " 'HIT_GDRAIL',\n",
       " 'HIT_GDRAIL_END',\n",
       " 'HIT_POLE',\n",
       " 'HIT_TREE_SHRUB',\n",
       " 'HIT_BARRIER']"
      ]
     },
     "execution_count": 12,
     "metadata": {},
     "output_type": "execute_result"
    }
   ],
   "source": [
    "j = [\"MC_DRINKING_DRIVER\",\"DRINKING_DRIVER\",\"CROSS_MEDIAN\",\"SV_RUN_OFF_RD\",'DISTRACTED','UNBELTED','COLLISION_TYPE','FIRE_IN_VEHICLE','OVERTURNED','AGGRESSIVE_DRIVING','SPEEDING','HIT_BRIDGE','HIT_DEER','HIT_EMBANKMENT','HIT_FIXED_OBJECT','HIT_GDRAIL','HIT_GDRAIL_END','HIT_POLE','HIT_TREE_SHRUB','HIT_BARRIER']\n",
    "j"
   ]
  },
  {
   "cell_type": "code",
   "execution_count": null,
   "metadata": {},
   "outputs": [],
   "source": [
    "small = [\"PED_COUNT\",\"BICYCLE_COUNT\",\"MOTORCYCLE_COUNT\"]\n",
    "medium = [\"AUTOMOBILE_COUNT\",\"SUV_COUNT\"]\n",
    "large = [\"VAN_COUNT\",\"SMALL_TRUCK_COUNT\",\"HEAVY_TRUCK_COUNT\",\"BUS_COUNT\",\"SCHOOL_BUS\"]"
   ]
  },
  {
   "cell_type": "code",
   "execution_count": 12,
   "metadata": {},
   "outputs": [],
   "source": [
    "data[\"SMALL_VEH\"] = data[\"BICYCLE_COUNT\"] + data[\"MOTORCYCLE_COUNT\"]\n",
    "data[\"MEDIUM_VEH\"] = data[\"AUTOMOBILE_COUNT\"] + data[\"SUV_COUNT\"]\n",
    "data[\"LARGE_VEH\"] = data[\"VAN_COUNT\"] + data[\"SMALL_TRUCK_COUNT\"] + data[\"BUS_COUNT\"] + data[\"SCHOOL_BUS\"] + data[\"HEAVY_TRUCK_COUNT\"]"
   ]
  },
  {
   "cell_type": "code",
   "execution_count": null,
   "metadata": {},
   "outputs": [],
   "source": []
  },
  {
   "cell_type": "code",
   "execution_count": 23,
   "metadata": {},
   "outputs": [
    {
     "data": {
      "text/html": [
       "<div>\n",
       "<style scoped>\n",
       "    .dataframe tbody tr th:only-of-type {\n",
       "        vertical-align: middle;\n",
       "    }\n",
       "\n",
       "    .dataframe tbody tr th {\n",
       "        vertical-align: top;\n",
       "    }\n",
       "\n",
       "    .dataframe thead th {\n",
       "        text-align: right;\n",
       "    }\n",
       "</style>\n",
       "<table border=\"1\" class=\"dataframe\">\n",
       "  <thead>\n",
       "    <tr style=\"text-align: right;\">\n",
       "      <th></th>\n",
       "      <th>REAR_TO_REAR_COL</th>\n",
       "      <th>COLLISION_TYPE</th>\n",
       "      <th>CRASH_CRN</th>\n",
       "      <th>DISTRICT</th>\n",
       "      <th>CRASH_COUNTY</th>\n",
       "      <th>MUNICIPALITY</th>\n",
       "      <th>POLICE_AGCY</th>\n",
       "      <th>CRASH_YEAR</th>\n",
       "      <th>CRASH_MONTH</th>\n",
       "      <th>DAY_OF_WEEK</th>\n",
       "      <th>...</th>\n",
       "      <th>STREET_NAME</th>\n",
       "      <th>TOT_INJ_COUNT</th>\n",
       "      <th>SCHOOL_BUS_UNIT</th>\n",
       "      <th>SMALL_VEH</th>\n",
       "      <th>MEDIUM_VEH</th>\n",
       "      <th>LARGE_VEH</th>\n",
       "      <th>REAR_END_COL</th>\n",
       "      <th>HEAD_ON_COL</th>\n",
       "      <th>ANGLE_COL</th>\n",
       "      <th>SIDESWEEP_COL</th>\n",
       "    </tr>\n",
       "  </thead>\n",
       "  <tbody>\n",
       "    <tr>\n",
       "      <th>0</th>\n",
       "      <td>0</td>\n",
       "      <td>0</td>\n",
       "      <td>4022</td>\n",
       "      <td>4022</td>\n",
       "      <td>4022</td>\n",
       "      <td>4022</td>\n",
       "      <td>4019</td>\n",
       "      <td>4022</td>\n",
       "      <td>4022</td>\n",
       "      <td>4022</td>\n",
       "      <td>...</td>\n",
       "      <td>3728</td>\n",
       "      <td>427</td>\n",
       "      <td>427</td>\n",
       "      <td>4022</td>\n",
       "      <td>4022</td>\n",
       "      <td>4022</td>\n",
       "      <td>4022</td>\n",
       "      <td>4022</td>\n",
       "      <td>4022</td>\n",
       "      <td>4022</td>\n",
       "    </tr>\n",
       "    <tr>\n",
       "      <th>1</th>\n",
       "      <td>0</td>\n",
       "      <td>1</td>\n",
       "      <td>39809</td>\n",
       "      <td>39809</td>\n",
       "      <td>39809</td>\n",
       "      <td>39809</td>\n",
       "      <td>39769</td>\n",
       "      <td>39809</td>\n",
       "      <td>39809</td>\n",
       "      <td>39809</td>\n",
       "      <td>...</td>\n",
       "      <td>36237</td>\n",
       "      <td>5727</td>\n",
       "      <td>5727</td>\n",
       "      <td>39809</td>\n",
       "      <td>39809</td>\n",
       "      <td>39809</td>\n",
       "      <td>39809</td>\n",
       "      <td>39809</td>\n",
       "      <td>39809</td>\n",
       "      <td>39809</td>\n",
       "    </tr>\n",
       "    <tr>\n",
       "      <th>2</th>\n",
       "      <td>0</td>\n",
       "      <td>2</td>\n",
       "      <td>6976</td>\n",
       "      <td>6976</td>\n",
       "      <td>6976</td>\n",
       "      <td>6976</td>\n",
       "      <td>6976</td>\n",
       "      <td>6976</td>\n",
       "      <td>6976</td>\n",
       "      <td>6976</td>\n",
       "      <td>...</td>\n",
       "      <td>6586</td>\n",
       "      <td>885</td>\n",
       "      <td>885</td>\n",
       "      <td>6976</td>\n",
       "      <td>6976</td>\n",
       "      <td>6976</td>\n",
       "      <td>6976</td>\n",
       "      <td>6976</td>\n",
       "      <td>6976</td>\n",
       "      <td>6976</td>\n",
       "    </tr>\n",
       "    <tr>\n",
       "      <th>3</th>\n",
       "      <td>0</td>\n",
       "      <td>4</td>\n",
       "      <td>38881</td>\n",
       "      <td>38881</td>\n",
       "      <td>38881</td>\n",
       "      <td>38881</td>\n",
       "      <td>38863</td>\n",
       "      <td>38881</td>\n",
       "      <td>38881</td>\n",
       "      <td>38881</td>\n",
       "      <td>...</td>\n",
       "      <td>36596</td>\n",
       "      <td>5581</td>\n",
       "      <td>5581</td>\n",
       "      <td>38881</td>\n",
       "      <td>38881</td>\n",
       "      <td>38881</td>\n",
       "      <td>38881</td>\n",
       "      <td>38881</td>\n",
       "      <td>38881</td>\n",
       "      <td>38881</td>\n",
       "    </tr>\n",
       "    <tr>\n",
       "      <th>4</th>\n",
       "      <td>0</td>\n",
       "      <td>5</td>\n",
       "      <td>7331</td>\n",
       "      <td>7331</td>\n",
       "      <td>7331</td>\n",
       "      <td>7331</td>\n",
       "      <td>7328</td>\n",
       "      <td>7331</td>\n",
       "      <td>7331</td>\n",
       "      <td>7331</td>\n",
       "      <td>...</td>\n",
       "      <td>6817</td>\n",
       "      <td>1057</td>\n",
       "      <td>1057</td>\n",
       "      <td>7331</td>\n",
       "      <td>7331</td>\n",
       "      <td>7331</td>\n",
       "      <td>7331</td>\n",
       "      <td>7331</td>\n",
       "      <td>7331</td>\n",
       "      <td>7331</td>\n",
       "    </tr>\n",
       "    <tr>\n",
       "      <th>5</th>\n",
       "      <td>0</td>\n",
       "      <td>6</td>\n",
       "      <td>3700</td>\n",
       "      <td>3700</td>\n",
       "      <td>3700</td>\n",
       "      <td>3700</td>\n",
       "      <td>3700</td>\n",
       "      <td>3700</td>\n",
       "      <td>3700</td>\n",
       "      <td>3700</td>\n",
       "      <td>...</td>\n",
       "      <td>3536</td>\n",
       "      <td>500</td>\n",
       "      <td>500</td>\n",
       "      <td>3700</td>\n",
       "      <td>3700</td>\n",
       "      <td>3700</td>\n",
       "      <td>3700</td>\n",
       "      <td>3700</td>\n",
       "      <td>3700</td>\n",
       "      <td>3700</td>\n",
       "    </tr>\n",
       "    <tr>\n",
       "      <th>6</th>\n",
       "      <td>0</td>\n",
       "      <td>7</td>\n",
       "      <td>41309</td>\n",
       "      <td>41309</td>\n",
       "      <td>41309</td>\n",
       "      <td>41309</td>\n",
       "      <td>41300</td>\n",
       "      <td>41309</td>\n",
       "      <td>41309</td>\n",
       "      <td>41309</td>\n",
       "      <td>...</td>\n",
       "      <td>38386</td>\n",
       "      <td>5140</td>\n",
       "      <td>5140</td>\n",
       "      <td>41309</td>\n",
       "      <td>41309</td>\n",
       "      <td>41309</td>\n",
       "      <td>41309</td>\n",
       "      <td>41309</td>\n",
       "      <td>41309</td>\n",
       "      <td>41309</td>\n",
       "    </tr>\n",
       "    <tr>\n",
       "      <th>7</th>\n",
       "      <td>0</td>\n",
       "      <td>8</td>\n",
       "      <td>3900</td>\n",
       "      <td>3900</td>\n",
       "      <td>3900</td>\n",
       "      <td>3900</td>\n",
       "      <td>3891</td>\n",
       "      <td>3900</td>\n",
       "      <td>3900</td>\n",
       "      <td>3900</td>\n",
       "      <td>...</td>\n",
       "      <td>3719</td>\n",
       "      <td>498</td>\n",
       "      <td>498</td>\n",
       "      <td>3900</td>\n",
       "      <td>3900</td>\n",
       "      <td>3900</td>\n",
       "      <td>3900</td>\n",
       "      <td>3900</td>\n",
       "      <td>3900</td>\n",
       "      <td>3900</td>\n",
       "    </tr>\n",
       "    <tr>\n",
       "      <th>8</th>\n",
       "      <td>0</td>\n",
       "      <td>9</td>\n",
       "      <td>3419</td>\n",
       "      <td>3419</td>\n",
       "      <td>3419</td>\n",
       "      <td>3419</td>\n",
       "      <td>3417</td>\n",
       "      <td>3419</td>\n",
       "      <td>3419</td>\n",
       "      <td>3419</td>\n",
       "      <td>...</td>\n",
       "      <td>3059</td>\n",
       "      <td>458</td>\n",
       "      <td>458</td>\n",
       "      <td>3419</td>\n",
       "      <td>3419</td>\n",
       "      <td>3419</td>\n",
       "      <td>3419</td>\n",
       "      <td>3419</td>\n",
       "      <td>3419</td>\n",
       "      <td>3419</td>\n",
       "    </tr>\n",
       "    <tr>\n",
       "      <th>9</th>\n",
       "      <td>1</td>\n",
       "      <td>3</td>\n",
       "      <td>288</td>\n",
       "      <td>288</td>\n",
       "      <td>288</td>\n",
       "      <td>288</td>\n",
       "      <td>285</td>\n",
       "      <td>288</td>\n",
       "      <td>288</td>\n",
       "      <td>288</td>\n",
       "      <td>...</td>\n",
       "      <td>261</td>\n",
       "      <td>82</td>\n",
       "      <td>82</td>\n",
       "      <td>288</td>\n",
       "      <td>288</td>\n",
       "      <td>288</td>\n",
       "      <td>288</td>\n",
       "      <td>288</td>\n",
       "      <td>288</td>\n",
       "      <td>288</td>\n",
       "    </tr>\n",
       "  </tbody>\n",
       "</table>\n",
       "<p>10 rows × 198 columns</p>\n",
       "</div>"
      ],
      "text/plain": [
       "   REAR_TO_REAR_COL  COLLISION_TYPE  CRASH_CRN  DISTRICT  CRASH_COUNTY  \\\n",
       "0                 0               0       4022      4022          4022   \n",
       "1                 0               1      39809     39809         39809   \n",
       "2                 0               2       6976      6976          6976   \n",
       "3                 0               4      38881     38881         38881   \n",
       "4                 0               5       7331      7331          7331   \n",
       "5                 0               6       3700      3700          3700   \n",
       "6                 0               7      41309     41309         41309   \n",
       "7                 0               8       3900      3900          3900   \n",
       "8                 0               9       3419      3419          3419   \n",
       "9                 1               3        288       288           288   \n",
       "\n",
       "   MUNICIPALITY  POLICE_AGCY  CRASH_YEAR  CRASH_MONTH  DAY_OF_WEEK  ...  \\\n",
       "0          4022         4019        4022         4022         4022  ...   \n",
       "1         39809        39769       39809        39809        39809  ...   \n",
       "2          6976         6976        6976         6976         6976  ...   \n",
       "3         38881        38863       38881        38881        38881  ...   \n",
       "4          7331         7328        7331         7331         7331  ...   \n",
       "5          3700         3700        3700         3700         3700  ...   \n",
       "6         41309        41300       41309        41309        41309  ...   \n",
       "7          3900         3891        3900         3900         3900  ...   \n",
       "8          3419         3417        3419         3419         3419  ...   \n",
       "9           288          285         288          288          288  ...   \n",
       "\n",
       "   STREET_NAME  TOT_INJ_COUNT  SCHOOL_BUS_UNIT  SMALL_VEH  MEDIUM_VEH  \\\n",
       "0         3728            427              427       4022        4022   \n",
       "1        36237           5727             5727      39809       39809   \n",
       "2         6586            885              885       6976        6976   \n",
       "3        36596           5581             5581      38881       38881   \n",
       "4         6817           1057             1057       7331        7331   \n",
       "5         3536            500              500       3700        3700   \n",
       "6        38386           5140             5140      41309       41309   \n",
       "7         3719            498              498       3900        3900   \n",
       "8         3059            458              458       3419        3419   \n",
       "9          261             82               82        288         288   \n",
       "\n",
       "   LARGE_VEH  REAR_END_COL  HEAD_ON_COL  ANGLE_COL  SIDESWEEP_COL  \n",
       "0       4022          4022         4022       4022           4022  \n",
       "1      39809         39809        39809      39809          39809  \n",
       "2       6976          6976         6976       6976           6976  \n",
       "3      38881         38881        38881      38881          38881  \n",
       "4       7331          7331         7331       7331           7331  \n",
       "5       3700          3700         3700       3700           3700  \n",
       "6      41309         41309        41309      41309          41309  \n",
       "7       3900          3900         3900       3900           3900  \n",
       "8       3419          3419         3419       3419           3419  \n",
       "9        288           288          288        288            288  \n",
       "\n",
       "[10 rows x 198 columns]"
      ]
     },
     "execution_count": 23,
     "metadata": {},
     "output_type": "execute_result"
    }
   ],
   "source": [
    "data.groupby([\"REAR_TO_REAR_COL\",\"COLLISION_TYPE\"]).count().reset_index()"
   ]
  },
  {
   "cell_type": "code",
   "execution_count": null,
   "metadata": {},
   "outputs": [],
   "source": [
    "s1 = 'MEDIUM_VEH'\n",
    "df = data.groupby([s1,\"MAX_SEVERITY_LEVEL\"]).agg({s1: 'count'})\n",
    "\n",
    "df.groupby(level=0).apply(lambda x:100 * x / float(x.sum()))"
   ]
  },
  {
   "cell_type": "code",
   "execution_count": null,
   "metadata": {},
   "outputs": [],
   "source": [
    " # MEDIUM VEHICLES ARE NOT LINEAR WITH SEVERITY BECAUSE SMALL AND LARGE ARE ONLY VULNERABLE"
   ]
  },
  {
   "cell_type": "code",
   "execution_count": null,
   "metadata": {},
   "outputs": [],
   "source": [
    "data[[\"MC_DRINKING_DRIVER\",\"DRINKING_DRIVER\",\"CROSS_MEDIAN\",\"SV_RUN_OFF_RD\",'DISTRACTED','UNBELTED','COLLISION_TYPE','FIRE_IN_VEHICLE','OVERTURNED','AGGRESSIVE_DRIVING','SPEEDING','HIT_BRIDGE','HIT_DEER','HIT_EMBANKMENT','HIT_FIXED_OBJECT','HIT_GDRAIL','HIT_GDRAIL_END','HIT_POLE','HIT_TREE_SHRUB','HIT_BARRIER']].corr()"
   ]
  },
  {
   "cell_type": "code",
   "execution_count": 13,
   "metadata": {},
   "outputs": [],
   "source": [
    "data[\"MAX_SEVERITY\"] = data[\"MAX_SEVERITY_LEVEL\"].replace(4,3)"
   ]
  },
  {
   "cell_type": "code",
   "execution_count": 18,
   "metadata": {},
   "outputs": [],
   "source": [
    "data[\"REAR_END_COL\"] = [1 if t == 1 else 0 for t in data[\"COLLISION_TYPE\"]]\n",
    "data[\"HEAD_ON_COL\"] = [1 if t == 2 else 0 for t in data[\"COLLISION_TYPE\"]]\n",
    "data[\"REAR_TO_REAR_COL\"] = [1 if t == 3 else 0 for t in data[\"COLLISION_TYPE\"]]\n",
    "data[\"ANGLE_COL\"] = [1 if t == 4 else 0 for t in data[\"COLLISION_TYPE\"]]\n",
    "data[\"SIDESWEEP_COL\"] = [1 if t == 5 or t==6 else 0 for t in data[\"COLLISION_TYPE\"]]"
   ]
  },
  {
   "cell_type": "code",
   "execution_count": 24,
   "metadata": {},
   "outputs": [],
   "source": [
    "data.to_csv('miniproject_data_1.csv')"
   ]
  },
  {
   "cell_type": "code",
   "execution_count": 14,
   "metadata": {},
   "outputs": [
    {
     "data": {
      "text/plain": [
       "['ALCOHOL_RELATED',\n",
       " 'ILLEGAL_DRUG_RELATED',\n",
       " 'IMPAIRED_DRIVER',\n",
       " 'AUTOMOBILE_COUNT',\n",
       " 'BUS_COUNT',\n",
       " 'SUV_COUNT',\n",
       " 'VAN_COUNT',\n",
       " 'SCHOOL_BUS',\n",
       " 'SMALL_TRUCK_COUNT',\n",
       " 'PED_COUNT',\n",
       " 'BICYCLE_COUNT',\n",
       " 'MOTORCYCLE_COUNT',\n",
       " 'HEAVY_TRUCK_COUNT',\n",
       " 'VEHICLE_COUNT',\n",
       " 'CELL_PHONE',\n",
       " 'HIT',\n",
       " 'DEER_RELATED',\n",
       " 'FATIGUE_ASLEEP',\n",
       " 'NHTSA_AGG_DRIVING',\n",
       " 'SPEEDING_RELATED',\n",
       " 'UNBELTED_OCC_COUNT']"
      ]
     },
     "execution_count": 14,
     "metadata": {},
     "output_type": "execute_result"
    }
   ],
   "source": [
    "[i for i in a if i not in j]"
   ]
  },
  {
   "cell_type": "code",
   "execution_count": null,
   "metadata": {},
   "outputs": [],
   "source": [
    "['ALCOHOL_RELATED', 'ILLEGAL_DRUG_RELATED', 'IMPAIRED_DRIVER']"
   ]
  }
 ],
 "metadata": {
  "kernelspec": {
   "display_name": "Python 3",
   "language": "python",
   "name": "python3"
  },
  "language_info": {
   "codemirror_mode": {
    "name": "ipython",
    "version": 3
   },
   "file_extension": ".py",
   "mimetype": "text/x-python",
   "name": "python",
   "nbconvert_exporter": "python",
   "pygments_lexer": "ipython3",
   "version": "3.8.5"
  }
 },
 "nbformat": 4,
 "nbformat_minor": 4
}
